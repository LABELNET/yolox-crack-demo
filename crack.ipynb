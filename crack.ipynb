{
 "cells": [
  {
   "cell_type": "code",
   "execution_count": null,
   "metadata": {},
   "outputs": [],
   "source": [
    "\"\"\" \n",
    "1. 环境\n",
    "---\n",
    "Google Colab GPU 进行下面方式安装，自己电脑可以按照自己方式进行安装；\n",
    "YOLOX 安装 0.3.0 分支版本，不要使用仓库最新代码，可能存在未知无法解决的错误；\n",
    "\"\"\"\n",
    "\n",
    "%cd /content/\n",
    "!git clone https://github.com/Megvii-BaseDetection/YOLOX.git\n",
    "%cd YOLOX\n",
    "# 切换到 0.3.0 版本\n",
    "!git checkout -b 0.3.0 0.3.0\n",
    "%pip install -U pip && pip install -r requirements.txt\n",
    "%pip install -v -e . \n"
   ]
  },
  {
   "cell_type": "code",
   "execution_count": 1,
   "metadata": {},
   "outputs": [
    {
     "name": "stdout",
     "output_type": "stream",
     "text": [
      "models/yolox_s.pth\n"
     ]
    }
   ],
   "source": [
    "\"\"\"\n",
    "2. 模型\n",
    "---\n",
    "使用 yolox_s 模型，进行迁移学习，可使用 wget 进行下载\n",
    "\"\"\"\n",
    "# %cd /content/drive/MyDrive/yolox-map-demo/\n",
    "# !pip install wget\n",
    "\n",
    "def download_models():\n",
    "    \"\"\"  \n",
    "    下载 yolox_s 模型\n",
    "    \"\"\"\n",
    "    import os\n",
    "    import wget\n",
    "    if not os.path.exists('models/yolox_s.pth'):\n",
    "        os.mkdir('models')\n",
    "        wget.download('https://github.com/Megvii-BaseDetection/YOLOX/releases/download/0.1.1rc0/yolox_s.pth','models')\n",
    "    print('models/yolox_s.pth')\n",
    "\n",
    "\n",
    "download_models()"
   ]
  },
  {
   "cell_type": "code",
   "execution_count": 3,
   "metadata": {},
   "outputs": [],
   "source": [
    "\"\"\"\n",
    "3. 数据集\n",
    "---\n",
    "使用 labelimg 进行图片标注，将标注文件和图片放到一个文件夹中\n",
    "下载 Google Drive Datasets 放到该文件夹，并解压\n",
    "数据集: https://drive.google.com/file/d/12n1GVrUX4yJHUCDOx-4CPoA2ooiSU5L2/view?usp=share_link\n",
    "\"\"\"\n",
    "\n",
    "def datasets_download():\n",
    "    \"\"\"\n",
    "    下载数据集 \n",
    "    \"\"\"\n",
    "    import os \n",
    "    if not  os.path.exists('datasets'):\n",
    "        os.mkdir('datasets')\n",
    "    # 若使用 colab ，可直接挂载 drive ，进行复制操作；否则自行下载，并进行解压\n",
    "    if not os.path.exists('datasets/crack-datasets'):\n",
    "        os.system('cp /content/drive/MyDrive/my-datasets/crack-datasets.zip ./datasets/')\n",
    "\n",
    "    \n",
    "# 下载\n",
    "datasets_download()"
   ]
  },
  {
   "cell_type": "code",
   "execution_count": 6,
   "metadata": {},
   "outputs": [
    {
     "name": "stdout",
     "output_type": "stream",
     "text": [
      "datasets/crack/annotations/instances_train2017.json\n",
      "datasets/crack/annotations/instances_val2017.json\n",
      "datasets/crack/annotations/instances_test2017.json\n",
      "datasets/crack/train.txt\n",
      "datasets/crack/val.txt\n",
      "datasets/crack/test.txt\n",
      "datasets/crack/class.txt\n",
      "train size 28 , val size 8 , test size 4\n"
     ]
    }
   ],
   "source": [
    "\"\"\"\n",
    "4. 数据集转换 \n",
    "---\n",
    "将 labelimg 标注数据集，转换为 coco 数据集，使用 tools/labelimg2coco.py \n",
    "\"\"\"\n",
    "\n",
    "def datasets_init_coco():\n",
    "    from tools import labelimg2coco\n",
    "    labelimg2coco(\n",
    "        labelimg_dir='datasets/crack-datasets',\n",
    "        coco_dir='datasets/crack',\n",
    "        classes=['0'],\n",
    "        image_suffix='.jpg'\n",
    "    )\n",
    "\n",
    "datasets_init_coco()"
   ]
  },
  {
   "cell_type": "code",
   "execution_count": null,
   "metadata": {},
   "outputs": [],
   "source": [
    "\"\"\"\n",
    "5. 训练 \n",
    "---\n",
    "复制 YOLOX/exps/example/custom/yolox_s.py 文件，并进行变更内容，见 crack_exp_yolox_s.py \n",
    "\"\"\"\n",
    "\n",
    "# %cd /content/drive/MyDrive/yolox-crack-demo/\n",
    "!python train.py -f crack_exp_yolox_s.py -d 1 -b 16 --fp16 -o -c models/yolox_s.pth"
   ]
  },
  {
   "cell_type": "code",
   "execution_count": null,
   "metadata": {},
   "outputs": [],
   "source": [
    "\"\"\"\n",
    "6. 测试 \n",
    "---\n",
    "测试图片在 asserts/demo.jpg , 使用训练完毕的模型进行测试\n",
    "训练完毕的模型地址：/YOLOX_outputs/best_ckpt.pth\n",
    "需要修改 demo.py 中的 COCO_CLASS 内容\n",
    "\"\"\"\n",
    "# %cd /content/drive/MyDrive/yolox-crack-demo/\n",
    "# 修改 demo.p/COCO_CLASS 内容\n",
    "# 复制最新模型到 models 文件夹\n",
    "%cp ./YOLOX_outputs/crack_exp_yolox_s/best_ckpt.pth ./models/\n",
    "# 测试\n",
    "!python demo.py image -f crack_exp_yolox_s.py -c models/best_ckpt.pth --path assets/demo.png --conf 0.25 --nms 0.45 --tsize 640 --save_result --device gpu"
   ]
  },
  {
   "cell_type": "code",
   "execution_count": null,
   "metadata": {},
   "outputs": [],
   "source": [
    "\"\"\" \n",
    "7. 评估模型\n",
    "\"\"\"\n",
    "\n",
    "!python eval.py -f crack_exp_yolox_s.py -c models/best_ckpt.pth -b 16 -d 1 --conf 0.001 --fp16 --fuse"
   ]
  }
 ],
 "metadata": {
  "kernelspec": {
   "display_name": "base",
   "language": "python",
   "name": "python3"
  },
  "language_info": {
   "codemirror_mode": {
    "name": "ipython",
    "version": 3
   },
   "file_extension": ".py",
   "mimetype": "text/x-python",
   "name": "python",
   "nbconvert_exporter": "python",
   "pygments_lexer": "ipython3",
   "version": "3.8.12"
  },
  "orig_nbformat": 4,
  "vscode": {
   "interpreter": {
    "hash": "8802e17369358493b2a25d5973ae2e1888be6dfc616f8dfdb30b8430874f9792"
   }
  }
 },
 "nbformat": 4,
 "nbformat_minor": 2
}
